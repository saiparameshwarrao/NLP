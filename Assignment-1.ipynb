{
  "nbformat": 4,
  "nbformat_minor": 0,
  "metadata": {
    "colab": {
      "provenance": [],
      "authorship_tag": "ABX9TyOHIu1WVcwdyvGz8aDHRkY5",
      "include_colab_link": true
    },
    "kernelspec": {
      "name": "python3",
      "display_name": "Python 3"
    },
    "language_info": {
      "name": "python"
    }
  },
  "cells": [
    {
      "cell_type": "markdown",
      "metadata": {
        "id": "view-in-github",
        "colab_type": "text"
      },
      "source": [
        "<a href=\"https://colab.research.google.com/github/saiparameshwarrao/NLP/blob/main/Assignment-1.ipynb\" target=\"_parent\"><img src=\"https://colab.research.google.com/assets/colab-badge.svg\" alt=\"Open In Colab\"/></a>"
      ]
    },
    {
      "cell_type": "markdown",
      "source": [
        "**2. Loading Text Datasets from Different Resources**\n",
        "\n",
        "(i) Loading a Text File\n",
        "\n",
        " (ii) Loading Text Data from a CSV File\n",
        "\n",
        "(iii) Loading Text Data from an Online Source\n",
        "\n",
        " (iv)  Loading Built-in Text Datasets with NLTK\n",
        "\n",
        " (v) Loading Text Data Using Hugging Face Datasets\n",
        "\n",
        "\n",
        "\n",
        "\n",
        ""
      ],
      "metadata": {
        "id": "CuFXte83MDj0"
      }
    },
    {
      "cell_type": "markdown",
      "source": [
        "(i) Loading a Text File"
      ],
      "metadata": {
        "id": "C0QzC2qPOdsQ"
      }
    },
    {
      "cell_type": "code",
      "execution_count": 9,
      "metadata": {
        "colab": {
          "base_uri": "https://localhost:8080/"
        },
        "id": "Y7zJtYDmIo7L",
        "outputId": "31ca05ce-f1f7-411f-e71f-88a8112b3df8"
      },
      "outputs": [
        {
          "output_type": "stream",
          "name": "stdout",
          "text": [
            "UK 'risks breaking golden rule'\n",
            "\n",
            "The UK government will have to raise taxes or rein in spending if it wants to avoid breaking its \"golden rule\", a report suggests.\n",
            "\n",
            "The rule states that the government can borrow cash only to invest, and not to finance its spending projects. The National Institute of Economic and Social Research (NIESR) claims that taxes need to rise by about £10bn if state finances are to be put in order. The Treasury said its plans were on track and funded until 2008. According to NIESR, if the government's current economic cycle runs until March 2006 then it is \"unlikely\" the golden rule will be met. Should the cycle end a year earlier, then the chances improve to \"50/50\". Either way, fiscal tightening is needed, NIESR said.\n",
            "\n",
            "The report is the latest to call into question the viability of government spending projections. Earlier this month, accountancy firm Ernst & Young said that Chancellor of the Exchequer Gordon Brown's forecasts for tax revenues were too optimistic.\n",
            "\n",
            "\n"
          ]
        }
      ],
      "source": [
        "from google.colab import drive\n",
        "\n",
        "file_path = '/content/drive/My Drive/sample.txt'\n",
        "\n",
        "with open(file_path, 'r') as file:\n",
        "    text_data = file.read()\n",
        "\n",
        "print(text_data)"
      ]
    },
    {
      "cell_type": "markdown",
      "source": [
        " (ii) Loading Text Data from a CSV File\n"
      ],
      "metadata": {
        "id": "vHBazaCEOlti"
      }
    },
    {
      "cell_type": "code",
      "source": [
        "import pandas as pd\n",
        "from google.colab import drive\n",
        "\n",
        "\n",
        "csv_path = '/content/drive/My Drive/movies.csv'\n",
        "\n",
        "df = pd.read_csv(csv_path)\n",
        "\n",
        "print(df.head(5))\n"
      ],
      "metadata": {
        "colab": {
          "base_uri": "https://localhost:8080/"
        },
        "id": "66MEzYBbNS4m",
        "outputId": "1b13d788-edd4-40e0-f4bb-b6ab16bf7871"
      },
      "execution_count": 17,
      "outputs": [
        {
          "output_type": "stream",
          "name": "stdout",
          "text": [
            "                                 Film    Genre            Lead Studio  \\\n",
            "0          Zack and Miri Make a Porno  Romance  The Weinstein Company   \n",
            "1                     Youth in Revolt   Comedy  The Weinstein Company   \n",
            "2  You Will Meet a Tall Dark Stranger   Comedy            Independent   \n",
            "3                        When in Rome   Comedy                 Disney   \n",
            "4               What Happens in Vegas   Comedy                    Fox   \n",
            "\n",
            "   Audience score %  Profitability  Rotten Tomatoes % Worldwide Gross  Year  \n",
            "0                70       1.747542                 64         $41.94   2008  \n",
            "1                52       1.090000                 68         $19.62   2010  \n",
            "2                35       1.211818                 43         $26.66   2010  \n",
            "3                44       0.000000                 15         $43.04   2010  \n",
            "4                72       6.267647                 28        $219.37   2008  \n"
          ]
        }
      ]
    },
    {
      "cell_type": "markdown",
      "source": [
        "(iii) Loading Text Data from an Online Source\n"
      ],
      "metadata": {
        "id": "kYXnccmAOojJ"
      }
    },
    {
      "cell_type": "code",
      "source": [
        "import requests\n",
        "from bs4 import BeautifulSoup\n",
        "url = 'https://www.sru.edu.in/'\n",
        "response = requests.get(url)\n",
        "html_content = response.text\n",
        "soup = BeautifulSoup(html_content, 'html.parser')\n",
        "text = soup.get_text()\n",
        "print(\"Extracted Text:\\n\", text[:500])"
      ],
      "metadata": {
        "colab": {
          "base_uri": "https://localhost:8080/"
        },
        "id": "6zlZ6QZFOsWl",
        "outputId": "5a7ba81f-a2c1-4e3c-dc9c-714de0a926f8"
      },
      "execution_count": 28,
      "outputs": [
        {
          "output_type": "stream",
          "name": "stdout",
          "text": [
            "Extracted Text:\n",
            " \n",
            "\n",
            "\n",
            "\n",
            "SR University\n",
            "\n",
            "\n",
            "\n",
            "\n",
            "\n",
            "\n",
            "\n",
            "\n",
            "\n",
            "\n",
            "\n",
            "\n",
            "\n",
            "\n",
            "\n",
            "\n",
            "\n",
            "\n",
            "\n",
            "\n",
            "\n",
            "\n",
            "\n",
            "\n",
            "\n",
            "\n",
            "\n",
            "\n",
            "\n",
            "\n",
            "\n",
            "\n",
            "\n",
            "\n",
            "\n",
            "\n",
            "\n",
            "\n",
            "\n",
            "\n",
            "\n",
            "\n",
            "\n",
            "\n",
            "\n",
            "\n",
            "\n",
            "\n",
            "\n",
            "\n",
            "\n",
            "\n",
            " \n",
            "\n",
            " (870) 281-8333/8311\n",
            " \n",
            "\n",
            " info@sru.edu.in\n",
            "\n",
            "\n",
            "\n",
            "\n",
            "\n",
            "\n",
            "Online Payment\n",
            "\n",
            "\n",
            "Minors & Honours\n",
            "Careers\n",
            "SRiX\n",
            "SRAaP\n",
            "Visit Us\n",
            "\n",
            "Alumni\n",
            "\n",
            "\n",
            "Apply Now\n",
            "\n",
            "\n",
            "\n",
            "\n",
            "\n",
            "\n",
            "\n",
            "\n",
            "\n",
            "\n",
            "\n",
            "\n",
            "\n",
            "\n",
            "\n",
            "\n",
            "\n",
            "\n",
            "\n",
            "\n",
            "About\n",
            "\n",
            "\n",
            "Academics\n",
            "\n",
            "\n",
            "\n",
            "\n",
            "\n",
            "Programs\n",
            "\n",
            "\n",
            "\r\n",
            "                        Centers\r\n",
            "                    \n",
            "\n",
            "Nest for Entrepreneurship in Science & Technology\n",
            "Center for Creative Cognition\n",
            "Center for Design\n",
            "Center for Embedded System & IoT\n",
            "Center for AI & Deep Learning\n",
            "Collaboratory for Social I\n"
          ]
        }
      ]
    },
    {
      "cell_type": "markdown",
      "source": [
        " (iv)  Loading Built-in Text Datasets with NLTK"
      ],
      "metadata": {
        "id": "od5K7r4QQ7JW"
      }
    },
    {
      "cell_type": "code",
      "source": [
        "import nltk\n",
        "from nltk.corpus import gutenberg\n",
        "\n",
        "nltk.download('gutenberg')\n",
        "\n",
        "text_data = gutenberg.raw('austen-emma.txt')\n",
        "\n",
        "print(text_data[:500])\n"
      ],
      "metadata": {
        "colab": {
          "base_uri": "https://localhost:8080/"
        },
        "id": "LEwjnDN7Qfs3",
        "outputId": "e40a27c7-88d3-4e94-e873-28688b183410"
      },
      "execution_count": 30,
      "outputs": [
        {
          "output_type": "stream",
          "name": "stdout",
          "text": [
            "[Emma by Jane Austen 1816]\n",
            "\n",
            "VOLUME I\n",
            "\n",
            "CHAPTER I\n",
            "\n",
            "\n",
            "Emma Woodhouse, handsome, clever, and rich, with a comfortable home\n",
            "and happy disposition, seemed to unite some of the best blessings\n",
            "of existence; and had lived nearly twenty-one years in the world\n",
            "with very little to distress or vex her.\n",
            "\n",
            "She was the youngest of the two daughters of a most affectionate,\n",
            "indulgent father; and had, in consequence of her sister's marriage,\n",
            "been mistress of his house from a very early period.  Her mother\n",
            "had died t\n"
          ]
        },
        {
          "output_type": "stream",
          "name": "stderr",
          "text": [
            "[nltk_data] Downloading package gutenberg to /root/nltk_data...\n",
            "[nltk_data]   Package gutenberg is already up-to-date!\n"
          ]
        }
      ]
    },
    {
      "cell_type": "markdown",
      "source": [
        " (v) Loading Text Data Using Hugging Face Datasets\n"
      ],
      "metadata": {
        "id": "TeOmzaVVRDSX"
      }
    },
    {
      "cell_type": "code",
      "source": [
        "from datasets import load_dataset\n",
        "\n",
        "dataset = load_dataset('imdb')\n",
        "\n",
        "train_data = dataset['train']\n",
        "\n",
        "print(train_data[0])"
      ],
      "metadata": {
        "colab": {
          "base_uri": "https://localhost:8080/"
        },
        "id": "8qFow7bcRIbB",
        "outputId": "9794e672-f765-4ada-e74a-a57cc15a1205"
      },
      "execution_count": 2,
      "outputs": [
        {
          "output_type": "stream",
          "name": "stdout",
          "text": [
            "{'text': 'I rented I AM CURIOUS-YELLOW from my video store because of all the controversy that surrounded it when it was first released in 1967. I also heard that at first it was seized by U.S. customs if it ever tried to enter this country, therefore being a fan of films considered \"controversial\" I really had to see this for myself.<br /><br />The plot is centered around a young Swedish drama student named Lena who wants to learn everything she can about life. In particular she wants to focus her attentions to making some sort of documentary on what the average Swede thought about certain political issues such as the Vietnam War and race issues in the United States. In between asking politicians and ordinary denizens of Stockholm about their opinions on politics, she has sex with her drama teacher, classmates, and married men.<br /><br />What kills me about I AM CURIOUS-YELLOW is that 40 years ago, this was considered pornographic. Really, the sex and nudity scenes are few and far between, even then it\\'s not shot like some cheaply made porno. While my countrymen mind find it shocking, in reality sex and nudity are a major staple in Swedish cinema. Even Ingmar Bergman, arguably their answer to good old boy John Ford, had sex scenes in his films.<br /><br />I do commend the filmmakers for the fact that any sex shown in the film is shown for artistic purposes rather than just to shock people and make money to be shown in pornographic theaters in America. I AM CURIOUS-YELLOW is a good film for anyone wanting to study the meat and potatoes (no pun intended) of Swedish cinema. But really, this film doesn\\'t have much of a plot.', 'label': 0}\n"
          ]
        }
      ]
    },
    {
      "cell_type": "markdown",
      "source": [
        "**3. Take your own text or take text as “The bank can guarantee deposits will eventually cover future tuition costs because it invests in adjustable-rate mortgage securities.\" Implement Ambiguity Removal in the text.**\n"
      ],
      "metadata": {
        "id": "rgBgRhhqRqfS"
      }
    },
    {
      "cell_type": "code",
      "source": [
        "import pandas as pd\n",
        "\n",
        "data = {\n",
        "    'Text': [\n",
        "        \"The bank can guarantee deposits will eventually cover future tuition costs because it invests in adjustable-rate mortgage securities.\"\n",
        "    ]\n",
        "}\n",
        "\n",
        "df = pd.DataFrame(data)\n",
        "\n",
        "print(\"Original dataset:\")\n",
        "print(df.head())\n",
        "\n",
        "print(\"\\nMissing values in each column:\")\n",
        "print(df.isnull().sum())\n",
        "\n",
        "print(\"\\nNumber of duplicate rows:\", df.duplicated().sum())\n",
        "df_cleaned = df.drop_duplicates()\n",
        "\n",
        "df_cleaned['Text'] = df_cleaned['Text'].str.lower()\n",
        "\n",
        "print(\"\\nCleaned data after standardization:\")\n",
        "print(df_cleaned.head())\n",
        "\n",
        "cleaned_file_path = 'cleaned_sample_dataset.csv'\n",
        "df_cleaned.to_csv(cleaned_file_path, index=False)\n",
        "\n",
        "from google.colab import files\n",
        "files.download(cleaned_file_path)"
      ],
      "metadata": {
        "colab": {
          "base_uri": "https://localhost:8080/",
          "height": 238
        },
        "id": "LtDalYfIT_e_",
        "outputId": "067b9538-430d-4a33-bfe6-33b3146ab42c"
      },
      "execution_count": 6,
      "outputs": [
        {
          "output_type": "stream",
          "name": "stdout",
          "text": [
            "Original dataset:\n",
            "                                                Text\n",
            "0  The bank can guarantee deposits will eventuall...\n",
            "\n",
            "Missing values in each column:\n",
            "Text    0\n",
            "dtype: int64\n",
            "\n",
            "Number of duplicate rows: 0\n",
            "\n",
            "Cleaned data after standardization:\n",
            "                                                Text\n",
            "0  the bank can guarantee deposits will eventuall...\n"
          ]
        },
        {
          "output_type": "display_data",
          "data": {
            "text/plain": [
              "<IPython.core.display.Javascript object>"
            ],
            "application/javascript": [
              "\n",
              "    async function download(id, filename, size) {\n",
              "      if (!google.colab.kernel.accessAllowed) {\n",
              "        return;\n",
              "      }\n",
              "      const div = document.createElement('div');\n",
              "      const label = document.createElement('label');\n",
              "      label.textContent = `Downloading \"${filename}\": `;\n",
              "      div.appendChild(label);\n",
              "      const progress = document.createElement('progress');\n",
              "      progress.max = size;\n",
              "      div.appendChild(progress);\n",
              "      document.body.appendChild(div);\n",
              "\n",
              "      const buffers = [];\n",
              "      let downloaded = 0;\n",
              "\n",
              "      const channel = await google.colab.kernel.comms.open(id);\n",
              "      // Send a message to notify the kernel that we're ready.\n",
              "      channel.send({})\n",
              "\n",
              "      for await (const message of channel.messages) {\n",
              "        // Send a message to notify the kernel that we're ready.\n",
              "        channel.send({})\n",
              "        if (message.buffers) {\n",
              "          for (const buffer of message.buffers) {\n",
              "            buffers.push(buffer);\n",
              "            downloaded += buffer.byteLength;\n",
              "            progress.value = downloaded;\n",
              "          }\n",
              "        }\n",
              "      }\n",
              "      const blob = new Blob(buffers, {type: 'application/binary'});\n",
              "      const a = document.createElement('a');\n",
              "      a.href = window.URL.createObjectURL(blob);\n",
              "      a.download = filename;\n",
              "      div.appendChild(a);\n",
              "      a.click();\n",
              "      div.remove();\n",
              "    }\n",
              "  "
            ]
          },
          "metadata": {}
        },
        {
          "output_type": "display_data",
          "data": {
            "text/plain": [
              "<IPython.core.display.Javascript object>"
            ],
            "application/javascript": [
              "download(\"download_c63b9cb8-e361-44b5-a21a-c17f28673fab\", \"cleaned_sample_dataset.csv\", 139)"
            ]
          },
          "metadata": {}
        }
      ]
    },
    {
      "cell_type": "markdown",
      "source": [
        "**4. Take your own text or take text as “Hello there! How are you doing today? NLP is fascinating.\" Implement Sentence Segmentation in the text.**  "
      ],
      "metadata": {
        "id": "FdNLNa6kSNCJ"
      }
    },
    {
      "cell_type": "code",
      "source": [
        "import nltk\n",
        "from nltk.tokenize import word_tokenize, sent_tokenize\n",
        "\n",
        "import pandas as pd\n",
        "\n",
        "data = {\n",
        "    'Text': [\n",
        "         \"Hello there! How are you doing today? NLP is fascinating.\"\n",
        "    ]\n",
        "}\n",
        "\n",
        "df = pd.DataFrame(data)\n",
        "\n",
        "df.head()\n",
        "\n",
        "df['Sentences'] = df['Text'].apply(sent_tokenize)\n",
        "\n",
        "df[['Text', 'Sentences']].head()\n",
        "\n",
        "df['Words'] = df['Text'].apply(word_tokenize)\n",
        "\n",
        "df[['Text', 'Words']].head()\n",
        "\n",
        "segmented_file_path = 'segmented_text_dataset.csv'\n",
        "df.to_csv(segmented_file_path, index=False)\n",
        "from google.colab import files\n",
        "\n",
        "files.download(segmented_file_path)"
      ],
      "metadata": {
        "colab": {
          "base_uri": "https://localhost:8080/",
          "height": 17
        },
        "id": "CWQ9Ht-YSS9A",
        "outputId": "9c4decaa-946d-4539-abe9-26228e36e714"
      },
      "execution_count": 4,
      "outputs": [
        {
          "output_type": "display_data",
          "data": {
            "text/plain": [
              "<IPython.core.display.Javascript object>"
            ],
            "application/javascript": [
              "\n",
              "    async function download(id, filename, size) {\n",
              "      if (!google.colab.kernel.accessAllowed) {\n",
              "        return;\n",
              "      }\n",
              "      const div = document.createElement('div');\n",
              "      const label = document.createElement('label');\n",
              "      label.textContent = `Downloading \"${filename}\": `;\n",
              "      div.appendChild(label);\n",
              "      const progress = document.createElement('progress');\n",
              "      progress.max = size;\n",
              "      div.appendChild(progress);\n",
              "      document.body.appendChild(div);\n",
              "\n",
              "      const buffers = [];\n",
              "      let downloaded = 0;\n",
              "\n",
              "      const channel = await google.colab.kernel.comms.open(id);\n",
              "      // Send a message to notify the kernel that we're ready.\n",
              "      channel.send({})\n",
              "\n",
              "      for await (const message of channel.messages) {\n",
              "        // Send a message to notify the kernel that we're ready.\n",
              "        channel.send({})\n",
              "        if (message.buffers) {\n",
              "          for (const buffer of message.buffers) {\n",
              "            buffers.push(buffer);\n",
              "            downloaded += buffer.byteLength;\n",
              "            progress.value = downloaded;\n",
              "          }\n",
              "        }\n",
              "      }\n",
              "      const blob = new Blob(buffers, {type: 'application/binary'});\n",
              "      const a = document.createElement('a');\n",
              "      a.href = window.URL.createObjectURL(blob);\n",
              "      a.download = filename;\n",
              "      div.appendChild(a);\n",
              "      a.click();\n",
              "      div.remove();\n",
              "    }\n",
              "  "
            ]
          },
          "metadata": {}
        },
        {
          "output_type": "display_data",
          "data": {
            "text/plain": [
              "<IPython.core.display.Javascript object>"
            ],
            "application/javascript": [
              "download(\"download_286a3d3e-eee9-4feb-a680-b1490953701f\", \"segmented_text_dataset.csv\", 252)"
            ]
          },
          "metadata": {}
        }
      ]
    }
  ]
}