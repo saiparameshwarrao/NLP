{
  "nbformat": 4,
  "nbformat_minor": 0,
  "metadata": {
    "colab": {
      "provenance": [],
      "authorship_tag": "ABX9TyP0b5GaO5lB5dxH+Z1O0WVZ",
      "include_colab_link": true
    },
    "kernelspec": {
      "name": "python3",
      "display_name": "Python 3"
    },
    "language_info": {
      "name": "python"
    }
  },
  "cells": [
    {
      "cell_type": "markdown",
      "metadata": {
        "id": "view-in-github",
        "colab_type": "text"
      },
      "source": [
        "<a href=\"https://colab.research.google.com/github/saiparameshwarrao/NLP/blob/main/Assignment-5.ipynb\" target=\"_parent\"><img src=\"https://colab.research.google.com/assets/colab-badge.svg\" alt=\"Open In Colab\"/></a>"
      ]
    },
    {
      "cell_type": "markdown",
      "source": [
        "### 1. Implement a Hidden Markov Model (HMM) for weather forecasting, taking scenario where we have hidden weather states (e.g., \"Sunny\" and \"Rainy\") and observable events (e.g., \"Dry\", \"Damp\", \"Wet\"). The goal is to predict the sequence of weather states based on the observations."
      ],
      "metadata": {
        "id": "Teo3gIUBF1ea"
      }
    },
    {
      "cell_type": "code",
      "source": [
        "import numpy as np\n",
        "\n",
        "states = [\"Sunny\", \"Rainy\"]\n",
        "observations = [\"Dry\", \"Damp\", \"Wet\"]\n",
        "\n",
        "state_map = {state: i for i, state in enumerate(states)}\n",
        "obs_map = {obs: i for i, obs in enumerate(observations)}\n",
        "\n",
        "transition_prob = np.array([\n",
        "    [0.7, 0.3],\n",
        "    [0.4, 0.6]\n",
        "])\n",
        "\n",
        "emission_prob = np.array([\n",
        "    [0.6, 0.3, 0.1],\n",
        "    [0.2, 0.4, 0.4]\n",
        "])\n",
        "\n",
        "start_prob = np.array([0.8, 0.2])\n",
        "\n",
        "def viterbi(obs_sequence, start_prob, trans_prob, emit_prob):\n",
        "    n_states = len(start_prob)\n",
        "    n_obs = len(obs_sequence)\n",
        "\n",
        "    viterbi_matrix = np.zeros((n_states, n_obs))\n",
        "    backpointer = np.zeros((n_states, n_obs), dtype=int)\n",
        "\n",
        "    viterbi_matrix[:, 0] = start_prob * emit_prob[:, obs_map[obs_sequence[0]]]\n",
        "\n",
        "    for t in range(1, n_obs):\n",
        "        for s in range(n_states):\n",
        "            prob = viterbi_matrix[:, t - 1] * trans_prob[:, s] * emit_prob[s, obs_map[obs_sequence[t]]]\n",
        "            viterbi_matrix[s, t] = np.max(prob)\n",
        "            backpointer[s, t] = np.argmax(prob)\n",
        "\n",
        "    best_path = np.zeros(n_obs, dtype=int)\n",
        "    best_path[-1] = np.argmax(viterbi_matrix[:, -1])\n",
        "\n",
        "    for t in range(n_obs - 2, -1, -1):\n",
        "        best_path[t] = backpointer[best_path[t + 1], t + 1]\n",
        "\n",
        "    best_state_sequence = [states[state] for state in best_path]\n",
        "\n",
        "    return best_state_sequence, viterbi_matrix\n",
        "\n",
        "obs_sequence = [\"Dry\", \"Damp\", \"Wet\"]\n",
        "\n",
        "best_state_sequence, viterbi_matrix = viterbi(obs_sequence, start_prob, transition_prob, emission_prob)\n",
        "\n",
        "print(\"Observation Sequence:\", obs_sequence)\n",
        "print(\"Best State Sequence:\", best_state_sequence)\n",
        "print(\"Viterbi Matrix:\\n\", viterbi_matrix)"
      ],
      "metadata": {
        "colab": {
          "base_uri": "https://localhost:8080/"
        },
        "id": "SgsxsR4KHEOX",
        "outputId": "39b0d4ec-9a59-471a-d0e3-9666a4029343"
      },
      "execution_count": 9,
      "outputs": [
        {
          "output_type": "stream",
          "name": "stdout",
          "text": [
            "Observation Sequence: ['Dry', 'Damp', 'Wet']\n",
            "Best State Sequence: ['Sunny', 'Rainy', 'Rainy']\n",
            "Viterbi Matrix:\n",
            " [[0.48     0.1008   0.007056]\n",
            " [0.04     0.0576   0.013824]]\n"
          ]
        }
      ]
    },
    {
      "cell_type": "markdown",
      "source": [
        "### 2. Problem Setup\n",
        "####States (S): Hidden states representing the weather (e.g., \"Sunny\", \"Rainy\").\n",
        "####Observations (O): Observable events that we can measure (e.g., \"Dry\", \"Damp\", \"Wet\").\n"
      ],
      "metadata": {
        "id": "9_Ia6y7IH4z3"
      }
    },
    {
      "cell_type": "code",
      "source": [
        "import numpy as np\n",
        "from hmmlearn import hmm\n",
        "\n",
        "states = [\"Sunny\", \"Rainy\"]\n",
        "n_states = len(states)\n",
        "\n",
        "observations = [\"Dry\", \"Damp\", \"Wet\"]\n",
        "n_observations = len(observations)\n",
        "\n",
        "print(\"States:\", states)\n",
        "print(\"Number of States:\", n_states)\n",
        "print(\"Observations:\", observations)\n",
        "print(\"Number of Observations:\", n_observations)"
      ],
      "metadata": {
        "colab": {
          "base_uri": "https://localhost:8080/"
        },
        "id": "KA_mjTCyIfzm",
        "outputId": "3b8973ee-f733-419d-b3c4-96027f77cf26"
      },
      "execution_count": 10,
      "outputs": [
        {
          "output_type": "stream",
          "name": "stdout",
          "text": [
            "States: ['Sunny', 'Rainy']\n",
            "Number of States: 2\n",
            "Observations: ['Dry', 'Damp', 'Wet']\n",
            "Number of Observations: 3\n"
          ]
        }
      ]
    },
    {
      "cell_type": "markdown",
      "source": [
        "####Transition Probabilities (A): The probability of transitioning from one weather state to another.\n"
      ],
      "metadata": {
        "id": "1XixD4zmJvV_"
      }
    },
    {
      "cell_type": "code",
      "source": [
        "import numpy as np\n",
        "from hmmlearn import hmm\n",
        "\n",
        "states = [\"Sunny\", \"Rainy\"]\n",
        "n_states = len(states)\n",
        "\n",
        "observations = [\"Dry\", \"Damp\", \"Wet\"]\n",
        "n_observations = len(observations)\n",
        "\n",
        "transition_prob = np.array([\n",
        "    [0.7, 0.3],\n",
        "    [0.4, 0.6]\n",
        "])\n",
        "\n",
        "print(\"Transition Probabilities (A):\")\n",
        "print(transition_prob)"
      ],
      "metadata": {
        "colab": {
          "base_uri": "https://localhost:8080/"
        },
        "id": "xHFXg98hKA3y",
        "outputId": "ac743254-7f17-4c4f-9734-3b9db305b9c2"
      },
      "execution_count": 11,
      "outputs": [
        {
          "output_type": "stream",
          "name": "stdout",
          "text": [
            "Transition Probabilities (A):\n",
            "[[0.7 0.3]\n",
            " [0.4 0.6]]\n"
          ]
        }
      ]
    },
    {
      "cell_type": "markdown",
      "source": [
        "####Emission Probabilities (B): The probability of observing a certain event given the weather state.\n"
      ],
      "metadata": {
        "id": "L_t5YGaqKYJY"
      }
    },
    {
      "cell_type": "code",
      "source": [
        "import numpy as np\n",
        "from hmmlearn import hmm\n",
        "\n",
        "states = [\"Sunny\", \"Rainy\"]\n",
        "n_states = len(states)\n",
        "\n",
        "observations = [\"Dry\", \"Damp\", \"Wet\"]\n",
        "n_observations = len(observations)\n",
        "\n",
        "emission_prob = np.array([\n",
        "    [0.8, 0.15, 0.05],\n",
        "    [0.1, 0.35, 0.55]\n",
        "])\n",
        "\n",
        "print(\"Emission Probabilities (B):\")\n",
        "print(emission_prob)"
      ],
      "metadata": {
        "colab": {
          "base_uri": "https://localhost:8080/"
        },
        "id": "7W0kXI8nKgL3",
        "outputId": "301bfbc9-da3c-461d-e6db-6e5e2fece89b"
      },
      "execution_count": 13,
      "outputs": [
        {
          "output_type": "stream",
          "name": "stdout",
          "text": [
            "Emission Probabilities (B):\n",
            "[[0.8  0.15 0.05]\n",
            " [0.1  0.35 0.55]]\n"
          ]
        }
      ]
    },
    {
      "cell_type": "markdown",
      "source": [
        "####Initial Probabilities (π): The probability distribution over the initial states."
      ],
      "metadata": {
        "id": "3UCs_q5uKZtQ"
      }
    },
    {
      "cell_type": "code",
      "source": [
        "import numpy as np\n",
        "\n",
        "states = [\"Sunny\", \"Rainy\"]\n",
        "n_states = len(states)\n",
        "\n",
        "start_prob = np.array([0.6, 0.4])\n",
        "\n",
        "print(\"Initial Probabilities (π):\")\n",
        "print(start_prob)"
      ],
      "metadata": {
        "colab": {
          "base_uri": "https://localhost:8080/"
        },
        "id": "R96zgihgKhm3",
        "outputId": "f67a8636-dc53-408c-f4c4-e6080a8240bd"
      },
      "execution_count": 14,
      "outputs": [
        {
          "output_type": "stream",
          "name": "stdout",
          "text": [
            "Initial Probabilities (π):\n",
            "[0.6 0.4]\n"
          ]
        }
      ]
    },
    {
      "cell_type": "markdown",
      "source": [
        "###2. Take different transition and emission probabilities or observation sequences on above problem and see how the model's predictions change."
      ],
      "metadata": {
        "id": "azo-mekfOY9A"
      }
    },
    {
      "cell_type": "code",
      "source": [
        "import numpy as np\n",
        "from hmmlearn import hmm\n",
        "\n",
        "states = [\"Sunny\", \"Rainy\"]\n",
        "n_states = len(states)\n",
        "\n",
        "transition_prob = np.array([\n",
        "    [0.6, 0.4],\n",
        "    [0.5, 0.5]\n",
        "])\n",
        "\n",
        "means = np.array([\n",
        "    [1.2],\n",
        "    [2.8]\n",
        "])\n",
        "covariances = np.array([\n",
        "    [0.4],\n",
        "    [0.6]\n",
        "])\n",
        "\n",
        "start_prob = np.array([0.7, 0.3])\n",
        "\n",
        "model = hmm.GaussianHMM(n_components=n_states, covariance_type='diag')\n",
        "\n",
        "model.startprob_ = start_prob\n",
        "model.transmat_ = transition_prob\n",
        "model.means_ = means\n",
        "model.covars_ = covariances\n",
        "\n",
        "observation_sequences = [\n",
        "    np.array([1, 2, 3, 1, 2]).reshape(-1, 1),\n",
        "    np.array([3, 3, 2, 1]).reshape(-1, 1)\n",
        "]\n",
        "\n",
        "for i, observation_sequence in enumerate(observation_sequences):\n",
        "\n",
        "    logprob, hidden_states = model.decode(observation_sequence, algorithm=\"viterbi\")\n",
        "    print(f\"\\nObservation Sequence {i + 1}: {[observations[j-1] for j in observation_sequence.flatten()]}\")\n",
        "    print(\"Predicted Hidden States:\", [states[i] for i in hidden_states])"
      ],
      "metadata": {
        "colab": {
          "base_uri": "https://localhost:8080/"
        },
        "id": "IaabRUleM3eJ",
        "outputId": "2ba15494-7ce6-46b0-a72d-75fcbfa3bb17"
      },
      "execution_count": 15,
      "outputs": [
        {
          "output_type": "stream",
          "name": "stdout",
          "text": [
            "\n",
            "Observation Sequence 1: ['Dry', 'Damp', 'Wet', 'Dry', 'Damp']\n",
            "Predicted Hidden States: ['Sunny', 'Sunny', 'Rainy', 'Sunny', 'Sunny']\n",
            "\n",
            "Observation Sequence 2: ['Wet', 'Wet', 'Damp', 'Dry']\n",
            "Predicted Hidden States: ['Rainy', 'Rainy', 'Sunny', 'Sunny']\n"
          ]
        }
      ]
    }
  ]
}